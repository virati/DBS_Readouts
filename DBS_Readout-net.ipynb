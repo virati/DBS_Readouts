{
 "cells": [
  {
   "cell_type": "markdown",
   "metadata": {},
   "source": [
    "# DBS Readout Model\n",
    "## Discrete Network\n",
    "\n",
    "A lot of recent effort in DBS research has focused on identifying neural signals that track with disease state.\n",
    "These *disease readouts* can objectively inform whether DBS is working and whether therapy changes are appropriate.\n",
    "Not a lot of effort has focused on developing a systematic framework to finding these readouts, however.\n",
    "\n",
    "In this notebook we'll develop a theoretical approach to designing and assessing neural readouts for diseases."
   ]
  },
  {
   "cell_type": "code",
   "execution_count": 1,
   "metadata": {},
   "outputs": [],
   "source": [
    "import networkx as nx\n",
    "import matplotlib\n",
    "import matplotlib.pyplot as plt\n",
    "import numpy as np\n",
    "import scipy.signal as sig\n",
    "from ipywidgets import interact, interactive, fixed, interact_manual\n",
    "import ipywidgets as widgets\n",
    "import scipy.stats as stats\n",
    "\n",
    "import seaborn as sns\n",
    "sns.set_style(\"white\")\n",
    "matplotlib.rcParams['figure.figsize'] = [15, 10]"
   ]
  },
  {
   "cell_type": "markdown",
   "metadata": {},
   "source": [
    "### Our model\n",
    "We start with a simple Graph $\\mathcal{G}$.\n",
    "A disease mapping $\\Xi \\in \\mathbb{R}^D$ transforms from the neural statespace to the behavioral statespace.\n",
    "A measurement mapping $h: X \\rightarrow Y$ yields us our electrophysiologic measurements $\\vec{y}(t)$.\n",
    "The goal of a readout is to accurately predict the behavioral state $\\beta$ from just the measurements $\\vec{y}(t)$.\n",
    "\n",
    "Unlike the previous example, we're going to now have correlations between our brain nodes."
   ]
  },
  {
   "cell_type": "markdown",
   "metadata": {},
   "source": [
    "## Perfect Model\n",
    "\n",
    "Starting with the same model we have before:\n",
    "![](Assets/discrete_model.png)\n",
    "\n",
    "We're going to add in network structure.\n",
    "Basically, regions won't have independent activity anymore and will have co-dependence:\n",
    "\n",
    "![]()\n"
   ]
  },
  {
   "cell_type": "code",
   "execution_count": 111,
   "metadata": {},
   "outputs": [
    {
     "data": {
      "application/vnd.jupyter.widget-view+json": {
       "model_id": "de0b59ec8e5b4801af29677c2fb8283a",
       "version_major": 2,
       "version_minor": 0
      },
      "text/plain": [
       "interactive(children=(FloatSlider(value=0.15, description='b7', max=1.0, step=0.05), FloatSlider(value=0.15, d…"
      ]
     },
     "metadata": {},
     "output_type": "display_data"
    }
   ],
   "source": [
    "def overlap(b7=0.15,b8=0.15,m1=1, m2=1, m3=1,h_noise=1):\n",
    "    node_n = 10\n",
    "    G = nx.erdos_renyi_graph(node_n,0.8)\n",
    "    \n",
    "    # Set up our disease map\n",
    "    beta = np.array([0.1,0.1,0.1,0.1,0.1,0.1,b7,b8,0.0,0.0]).reshape(-1,1)\n",
    "    beta = beta/np.linalg.norm(beta)\n",
    "\n",
    "    # Set up our measurement map\n",
    "    h = np.array([0,0,0,0,0,0,m1,m2,m3,1]).reshape(-1,1)\n",
    "    h = h/np.linalg.norm(h,ord=1)\n",
    "\n",
    "    # How many observations do we have\n",
    "    trials = 10000\n",
    "\n",
    "    # What's the noise in each brain region\n",
    "    x_sigma = 1.0\n",
    "    covar_matrix = x_sigma * nx.laplacian_matrix(G).todense()\n",
    "    \n",
    "    x = np.random.multivariate_normal(mean=np.zeros((node_n,)),cov=covar_matrix,size=(1,trials)).T.squeeze()\n",
    "    # Now calculate our disease measure and recordings\n",
    "    c = np.dot(beta.T,x)\n",
    "    y = np.dot(h.T,x)\n",
    "\n",
    "    # Add in noise to our recording if we want to\n",
    "    y += np.random.normal(0,h_noise,size=y.shape)\n",
    "\n",
    "    max_ip = np.dot(c,y.T)\n",
    "    max_corr = stats.pearsonr(c.squeeze(),y.squeeze())\n",
    "    \n",
    "    plt.figure()\n",
    "    plt.subplot(121)\n",
    "    pos = nx.spring_layout(G)\n",
    "    nx.draw(G,pos=pos,node_color='black')\n",
    "    dz_nodes = nx.draw_networkx_nodes(G,pos=pos,nodelist=range(0,7),node_color='none',linewidths=8.0)\n",
    "    dz_nodes.set_edgecolor('blue')\n",
    "    nx.draw_networkx_nodes(G,pos=pos,nodelist=[6,7,8],node_color='green')\n",
    "\n",
    "    plt.subplot(122)\n",
    "    plt.scatter(c,y)\n",
    "    plt.xlim((-5,5))\n",
    "    plt.ylim((-5,5))\n",
    "    plt.xlabel('True Disease State')\n",
    "    plt.ylabel('Measured Disease State')\n",
    "    plt.title('Correlation is: ' + str(np.round(max_corr[0],4)))\n",
    "    \n",
    "overlapper = interactive(overlap,m1=(0,1.0,0.05),m2=(0,1.0,0.05),m3=(0,1.0,0.05),b7=(0.0,1.0,0.05),b8=(0.0,1.0,0.05),h_noise=(0.0,10.0,0.5))\n",
    "display(overlapper)\n",
    "\n",
    "#print(h)\n",
    "\n",
    "#print(1/trials * max_ip/(np.std(c)*np.std(y)))"
   ]
  },
  {
   "cell_type": "markdown",
   "metadata": {},
   "source": [
    "## How good is good enough?\n",
    "We've put a limit on how good a readout can be compared to perfect.\n",
    "Here we'll see how we can go about figuring out if a readout is *good enough*"
   ]
  }
 ],
 "metadata": {
  "kernelspec": {
   "display_name": "Python 3",
   "language": "python",
   "name": "python3"
  },
  "language_info": {
   "codemirror_mode": {
    "name": "ipython",
    "version": 3
   },
   "file_extension": ".py",
   "mimetype": "text/x-python",
   "name": "python",
   "nbconvert_exporter": "python",
   "pygments_lexer": "ipython3",
   "version": "3.8.3"
  }
 },
 "nbformat": 4,
 "nbformat_minor": 4
}
