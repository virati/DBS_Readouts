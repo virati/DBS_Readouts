{
 "cells": [
  {
   "cell_type": "markdown",
   "metadata": {},
   "source": [
    "# DBS Readout Model\n",
    "A lot of recent effort in DBS research has focused on identifying neural signals that track with disease state.\n",
    "These *disease readouts* can objectively inform whether DBS is working and whether therapy changes are appropriate.\n",
    "Not a lot of effort has focused on developing a systematic framework to finding these readouts, however.\n",
    "\n",
    "In this notebook we'll develop a theoretical approach to designing and assessing neural readouts for diseases."
   ]
  },
  {
   "cell_type": "code",
   "execution_count": 1,
   "metadata": {},
   "outputs": [],
   "source": [
    "import networkx as nx\n",
    "import matplotlib\n",
    "import matplotlib.pyplot as plt\n",
    "import numpy as np\n",
    "import scipy.signal as sig\n",
    "from ipywidgets import interact, interactive, fixed, interact_manual\n",
    "import ipywidgets as widgets\n",
    "import scipy.stats as stats\n",
    "\n",
    "import seaborn as sns\n",
    "sns.set_style(\"white\")\n",
    "matplotlib.rcParams['figure.figsize'] = [15, 10]"
   ]
  },
  {
   "cell_type": "markdown",
   "metadata": {},
   "source": [
    "### Our model\n",
    "We start with a simple Graph $\\mathcal{G}$.\n",
    "A disease mapping $\\Xi \\in \\mathbb{R}^D$ transforms from the neural statespace to the behavioral statespace.\n",
    "A measurement mapping $h: X \\rightarrow Y$ yields us our electrophysiologic measurements $\\vec{y}(t)$.\n",
    "The goal of a readout is to accurately predict the behavioral state $\\beta$ from just the measurements $\\vec{y}(t)$."
   ]
  },
  {
   "cell_type": "markdown",
   "metadata": {},
   "source": [
    "### Signal Model\n",
    "Our output state $z$ is a convex combination of $x$ and $y$.\n",
    "$\\alpha$ is the free parameter that determines the ratio of $x$ to $y$ in the output signal $z$.\n",
    "\n",
    "noise_z is the noise level of the measurement $\\hat{z} =  z + \\mathcal{N}$.\n",
    "We then calculate the correlation between $z$ and our known salient input $x$.\n",
    "\n",
    "\\begin{equation}\n",
    "    z(t) = \\alpha \\cdot x(t) + (1-\\alpha) \\cdot y(t) \\\\\n",
    "    \\hat{z}(t) = z + \\mathcal{N}\n",
    "\\end{equation}\n"
   ]
  },
  {
   "cell_type": "code",
   "execution_count": 6,
   "metadata": {},
   "outputs": [],
   "source": [
    "bi_net = nx.Graph()\n",
    "bi_net.add_nodes_from([1,2,3])\n",
    "bi_net.add_edge(1,3,weight=10)\n",
    "bi_net.add_edge(2,3,weight=1)"
   ]
  },
  {
   "cell_type": "code",
   "execution_count": 7,
   "metadata": {},
   "outputs": [],
   "source": [
    "def gen_sig(fs=100,noise_x=1.0,noise_y=5.0,alpha=1.,fc_x=0.5,fc_y=0.5,noise_z=1):\n",
    "    t = np.linspace(0,100,100*fs)\n",
    "    input_x = 1\n",
    "    input_y = 2\n",
    "    \n",
    "    phase_x = np.random.uniform(-np.pi,np.pi,100*fs)\n",
    "    phase_y = np.random.uniform(-np.pi,np.pi,100*fs)\n",
    "    \n",
    "    x = np.random.normal(np.sin(2 * np.pi * (fc_x+ input_x) * t + phase_x),noise_x)\n",
    "    y = np.random.normal(np.sin(2 * np.pi * (fc_y+input_y) * t + phase_y),noise_y)\n",
    "    z = alpha*x + (1-alpha)*y + np.random.normal(0,noise_z,size=x.shape)\n",
    "    \n",
    "    fig = plt.figure(figsize=(14,12))\n",
    "    plt.subplot(1,2,1)\n",
    "    nx.draw(bi_net)\n",
    "    \n",
    "    plt.subplot(1,2,2)\n",
    "    \n",
    "    plt.plot(t,z,color='green',alpha=0.8)\n",
    "    plt.plot(t,y,alpha=1-alpha)\n",
    "    plt.plot(t,x,alpha=alpha)\n",
    "    \n",
    "    \n",
    "    plt.ylim((-10,10))\n",
    "    \n",
    "    pears = stats.pearsonr(z,x)\n",
    "    spears = stats.spearmanr(z,x)\n",
    "    plt.title('Correlation $\\hat{z}$ w/ x: ' + str(pears[0]))\n",
    "    \n",
    "#interactive(gen_sig,fs=(1,100,1),noise_x=(0.0,1.,0.1),noise_y=(0.0,1.,0.1),alpha=(0.0,1,0.01),samps=(1,1000,10),noise_z=(0.0,5.,0.1),fc_x=(0.01,5.,0.05),fc_y=(0.01,5.,0.05))"
   ]
  },
  {
   "cell_type": "code",
   "execution_count": 8,
   "metadata": {},
   "outputs": [
    {
     "data": {
      "application/vnd.jupyter.widget-view+json": {
       "model_id": "e775e756092e448abe8ea0c5b3d57c4f",
       "version_major": 2,
       "version_minor": 0
      },
      "text/plain": [
       "interactive(children=(FloatSlider(value=1.0, description='alpha', max=1.0, step=0.01), FloatSlider(value=1.0, …"
      ]
     },
     "metadata": {},
     "output_type": "display_data"
    }
   ],
   "source": [
    "interactive(gen_sig,fs=fixed(100),noise_x=fixed(0.5),noise_y=fixed(0.5),alpha=(0.0,1,0.01),noise_z=(0.0,5.,0.1),fc_x=fixed(4.5),fc_y=fixed(4.7))"
   ]
  },
  {
   "cell_type": "markdown",
   "metadata": {},
   "source": [
    "Next, we'll explore the role that noise in our bullshit node ($Y$) interferes with our ability to predict $X$."
   ]
  },
  {
   "cell_type": "code",
   "execution_count": 9,
   "metadata": {},
   "outputs": [
    {
     "data": {
      "application/vnd.jupyter.widget-view+json": {
       "model_id": "ed1945ce46034553bf074e890f4f0378",
       "version_major": 2,
       "version_minor": 0
      },
      "text/plain": [
       "interactive(children=(FloatSlider(value=5.0, description='noise_y', max=10.0), FloatSlider(value=1.0, descript…"
      ]
     },
     "metadata": {},
     "output_type": "display_data"
    }
   ],
   "source": [
    "interactive(gen_sig,fs=fixed(100),noise_x=fixed(0.5),noise_y=(0.0,10,0.1),alpha=(0.0,1,0.01),noise_z=(0.0,5.,0.1),fc_x=fixed(4.5),fc_y=fixed(4.7))"
   ]
  },
  {
   "cell_type": "markdown",
   "metadata": {},
   "source": [
    "## Effect of blending on correlation coefficient\n",
    "We're proceed with a simplified model and then extend it to a more realistic framework.\n",
    "\n",
    "We start with three brain nodes: $x$, $w$, and $z$.\n",
    "Our *measurement* $y = \\alpha x + (1-\\alpha) w$.\n",
    "Our *behavior* $\\beta = \\gamma x + (1-\\gamma) z$.\n",
    "\n",
    "### How good are our measurements\n",
    "In our measurement, we've got some activity from a node that is involved in behavior $x$ but also some activity from a node that is not related to behavior $z$.\n",
    "We then have a *signal-to-noise* ratio in our recording $y$ that we can calculate.\n",
    "\n",
    "\\begin{align}\n",
    "\\text{SNR} = \\frac{E[\\alpha x^2]}{E[(1-alpha) w^2]} = \\frac{\\alpha}{(1-\\alpha)} \\cdot \\frac{\\sigma_x}{\\sigma_w}\n",
    "\\end{align}"
   ]
  },
  {
   "cell_type": "code",
   "execution_count": 15,
   "metadata": {},
   "outputs": [
    {
     "data": {
      "application/vnd.jupyter.widget-view+json": {
       "model_id": "caa229b793e345f687ae214d39815aa2",
       "version_major": 2,
       "version_minor": 0
      },
      "text/plain": [
       "interactive(children=(FloatSlider(value=0.5, description='alpha', max=1.0, step=0.01), Output()), _dom_classes…"
      ]
     },
     "metadata": {},
     "output_type": "display_data"
    },
    {
     "data": {
      "text/plain": [
       "<function __main__.snr(alpha, w_var=2)>"
      ]
     },
     "execution_count": 15,
     "metadata": {},
     "output_type": "execute_result"
    }
   ],
   "source": [
    "t = np.linspace(0,10,100)\n",
    "\n",
    "x = np.sin(t) + np.random.normal(0,2,size=t.shape)\n",
    "w = np.random.normal(0,2,size=t.shape)\n",
    "\n",
    "\n",
    "def snr(alpha,w_var=2):\n",
    "    y = alpha * x + (1-alpha) * w\n",
    "    plt.figure()\n",
    "    plt.subplot(211)\n",
    "    plt.plot(x,alpha=alpha+0.1)\n",
    "    plt.plot(w,alpha=1-alpha+0.1)\n",
    "    plt.plot(y)\n",
    "    plt.subplot(212)\n",
    "    plt.scatter(x,y)\n",
    "    \n",
    "    corr_val = stats.pearsonr(y,x)\n",
    "    spear_val = stats.spearmanr(y,x)\n",
    "    plt.title(str(corr_val[0]) + ' ' + str(spear_val[0]))\n",
    "\n",
    "interact(snr,alpha=(0.0,1.0,0.01),w_var=fixed(2))"
   ]
  },
  {
   "cell_type": "markdown",
   "metadata": {},
   "source": [
    "## Perfect Model\n",
    "\n",
    "We start with a set of brain regions $\\{x_i\\}_i$\n",
    "\n",
    "We'll have our disease output $c = \\beta^i \\cdot x_i$\n",
    "\n",
    "And we'll have our measurement $y = m^i \\cdot x_i + \\epsilon$\n",
    "\n",
    "Let's take a look at our model so far\n",
    "\n",
    "![](Assets/discrete_model.png)"
   ]
  },
  {
   "cell_type": "code",
   "execution_count": 3,
   "metadata": {},
   "outputs": [
    {
     "data": {
      "application/vnd.jupyter.widget-view+json": {
       "model_id": "12ff75665424479082cd9843d56f2f4b",
       "version_major": 2,
       "version_minor": 0
      },
      "text/plain": [
       "interactive(children=(FloatSlider(value=0.15, description='b7', max=1.0, step=0.05), FloatSlider(value=0.15, d…"
      ]
     },
     "metadata": {},
     "output_type": "display_data"
    }
   ],
   "source": [
    "def overlap(b7=0.15,b8=0.15,m1=1, m2=1, m3=1,h_noise=1):\n",
    "    G = nx.Graph()\n",
    "    G.add_nodes_from(np.arange(10))\n",
    "    \n",
    "    \n",
    "    # Set up our disease map\n",
    "    beta = np.array([0.1,0.1,0.1,0.1,0.1,0.1,b7,b8,0.0,0.0])\n",
    "    beta = beta/np.linalg.norm(beta)\n",
    "\n",
    "    # Set up our measurement map\n",
    "    h = np.array([0,0,0,0,0,0,m1,m2,m3,1])\n",
    "    h = h/np.linalg.norm(h,ord=1)\n",
    "\n",
    "    # How many observations do we have\n",
    "    trials = 10000\n",
    "\n",
    "    # What's the noise in each brain region\n",
    "    x_sigma = 1.0\n",
    "    x = np.random.normal(0,x_sigma,size=(10,trials))\n",
    "\n",
    "    # Now calculate our disease measure and recordings\n",
    "    c = np.dot(beta,x)\n",
    "    y = np.dot(h,x)\n",
    "\n",
    "    # Add in noise to our recording if we want to\n",
    "    y += np.random.normal(0,h_noise,size=y.shape)\n",
    "\n",
    "    max_ip = np.dot(c,y)\n",
    "    max_corr = stats.pearsonr(c,y)\n",
    "    \n",
    "    plt.figure()\n",
    "    plt.scatter(c,y)\n",
    "    plt.xlim((-5,5))\n",
    "    plt.ylim((-5,5))\n",
    "    plt.title('Correlation is: ' + str(np.round(max_corr[0],4)))\n",
    "    \n",
    "overlapper = interactive(overlap,m1=(0,1.0,0.05),m2=(0,1.0,0.05),m3=(0,1.0,0.05),b7=(0.0,1.0,0.05),b8=(0.0,1.0,0.05),h_noise=(0.0,10.0,0.5))\n",
    "display(overlapper)\n",
    "\n",
    "#print(h)\n",
    "\n",
    "#print(1/trials * max_ip/(np.std(c)*np.std(y)))"
   ]
  },
  {
   "cell_type": "markdown",
   "metadata": {},
   "source": [
    "## How good is good enough?\n",
    "We've put a limit on how good a readout can be compared to perfect.\n",
    "Here we'll see how we can go about figuring out if a readout is *good enough*"
   ]
  }
 ],
 "metadata": {
  "kernelspec": {
   "display_name": "Python 3",
   "language": "python",
   "name": "python3"
  },
  "language_info": {
   "codemirror_mode": {
    "name": "ipython",
    "version": 3
   },
   "file_extension": ".py",
   "mimetype": "text/x-python",
   "name": "python",
   "nbconvert_exporter": "python",
   "pygments_lexer": "ipython3",
   "version": "3.8.2"
  }
 },
 "nbformat": 4,
 "nbformat_minor": 4
}
