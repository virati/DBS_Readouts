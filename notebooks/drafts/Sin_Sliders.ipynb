{
 "cells": [
  {
   "cell_type": "code",
   "execution_count": 4,
   "metadata": {},
   "outputs": [
    {
     "data": {
      "application/vnd.jupyter.widget-view+json": {
       "model_id": "0aea635fb31c40ea861244af2d0aa99a",
       "version_major": 2,
       "version_minor": 0
      },
      "text/plain": [
       "VBox(children=(VBox(children=(HBox(children=(IntSlider(value=0, description='tau', max=99, readout=False), Lab…"
      ]
     },
     "metadata": {},
     "output_type": "display_data"
    }
   ],
   "source": [
    "%matplotlib ipympl\n",
    "import ipywidgets as widgets\n",
    "\n",
    "# rest of imports\n",
    "import matplotlib.pyplot as plt\n",
    "import numpy as np\n",
    "from mpl_interactions import interactive_plot, interactive_plot_factory\n",
    "\n",
    "\n",
    "x = np.linspace(0, np.pi,100)\n",
    "tau = np.linspace(1,10, 100)\n",
    "beta = np.linspace(1,10)\n",
    "def f(x, tau, beta):\n",
    "    return np.sin(x*tau)*x**beta\n",
    "\n",
    "fig, ax, sliders = interactive_plot(f, x=x, tau = tau, beta = beta)"
   ]
  }
 ],
 "metadata": {
  "kernelspec": {
   "display_name": "Python 3",
   "language": "python",
   "name": "python3"
  },
  "language_info": {
   "codemirror_mode": {
    "name": "ipython",
    "version": 3
   },
   "file_extension": ".py",
   "mimetype": "text/x-python",
   "name": "python",
   "nbconvert_exporter": "python",
   "pygments_lexer": "ipython3",
   "version": "3.9.5"
  }
 },
 "nbformat": 4,
 "nbformat_minor": 4
}
