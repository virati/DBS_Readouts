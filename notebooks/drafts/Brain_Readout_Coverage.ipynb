{
 "cells": [
  {
   "cell_type": "code",
   "execution_count": 1,
   "metadata": {
    "colab": {},
    "colab_type": "code",
    "id": "iNTwY9lAo86E"
   },
   "outputs": [],
   "source": [
    "import networkx as nx\n",
    "import numpy as np\n",
    "import random\n",
    "\n",
    "import matplotlib\n",
    "import matplotlib.pyplot as plt\n",
    "\n",
    "matplotlib.rcParams['figure.figsize'] = (20,12)\n",
    "\n",
    "class DevNull(object):\n",
    "    def write(self,arg):\n",
    "        pass\n",
    "    \n",
    "import sys\n",
    "#sys.stdout = DevNull()"
   ]
  },
  {
   "cell_type": "markdown",
   "metadata": {
    "colab_type": "text",
    "id": "H_-_v0uXo-Ku"
   },
   "source": [
    "# Assessing a Brain-based Disease Readout\n",
    "## Given a recording strategy, what's a reasonable expectation?\n",
    "\n",
    "## Overview\n",
    "Often we don't get to decide the number and locations of recording electrodes without heavy constraints.\n",
    "Many factors go into deciding a recording setup and the resulting effort to identify a *readout* is undoubtedly affected.\n",
    "In this notebook I outline an approach to objectively set a theoretical upper-limit for a readout's performance measure given a recording setup in a simulated brain network.\n",
    "\n",
    "![]()"
   ]
  },
  {
   "cell_type": "code",
   "execution_count": 2,
   "metadata": {},
   "outputs": [],
   "source": [
    "class b_b_model:\n",
    "    def __init__(self,N=500,M=2):\n",
    "        self.N = N\n",
    "        self.gamma = np.random.normal(0,1.0,size=(N,1)) * np.random.choice([0,1,2],p=[450/500,45/500,5/500],size=(N,1))\n",
    "        self.contrib_regions = gamma != 0\n",
    "        \n",
    "        H = np.zeros((N,1))\n",
    "        self.H_gamma_mask = np.copy(gamma != 0)\n",
    "        \n",
    "        self.H_perfect = np.copy(H)\n",
    "        self.H_perfect[gamma!=0] = 1\n",
    "\n",
    "        \n",
    "        self.M = M\n",
    "        #find the M most important regions\n",
    "        top_gammas = (-self.gamma.squeeze()).argsort()[:M]\n",
    "        \n",
    "        \n",
    "        self.H_oracle = np.copy(H)\n",
    "        self.H_oracle[top_gammas] = 1\n",
    "\n",
    "        self.H_random = np.copy(H)\n",
    "        self.H_random[:M] = 1\n",
    "    \n",
    "    def analysis(self,H,do_plot=False):\n",
    "        coverage = np.dot(H.astype(np.int).T,contrib_regions.astype(np.int))/np.sum(contrib_regions)\n",
    "        peak_energy = (np.dot(H.T,np.abs(gamma)))/(np.linalg.norm(gamma)*np.linalg.norm(H))\n",
    "\n",
    "        if do_plot:\n",
    "            print('Coverage',coverage, ' of ', np.sum(contrib_regions))\n",
    "            print('H onto gamma Energy:',peak_energy)\n",
    "\n",
    "            plt.figure() \n",
    "            plt.plot(H,color='green')\n",
    "            plt.plot(contrib_regions,alpha=0.3,color='blue')\n",
    "\n",
    "        return coverage,peak_energy"
   ]
  },
  {
   "cell_type": "markdown",
   "metadata": {
    "colab_type": "text",
    "id": "wSKn86vRqC-1"
   },
   "source": [
    "\n",
    "## Model\n",
    "We'll have a set of 500 brain connected brain regions.\n",
    "A behavior we're interested in arises from the coordinated activity of 50 of those brain regions.\n",
    "First we'll set up a distribution where 2 of those 50 regions account for ~80% of the total behavioral signal."
   ]
  },
  {
   "cell_type": "code",
   "execution_count": 6,
   "metadata": {
    "colab": {
     "base_uri": "https://localhost:8080/",
     "height": 300
    },
    "colab_type": "code",
    "id": "pFoLErIBqED-",
    "outputId": "9ecf9d0d-f42c-47cd-d3ef-78e1b87915cc"
   },
   "outputs": [
    {
     "name": "stdout",
     "output_type": "stream",
     "text": [
      "[[0.03636364]] [[0.26608142]]\n"
     ]
    }
   ],
   "source": [
    "N = 500\n",
    "gamma = np.random.normal(0,1.0,size=(N,1)) * np.random.choice([0,1,2],p=[450/500,45/500,5/500],size=(N,1))\n",
    "contrib_regions = gamma != 0\n",
    "\n",
    "H = np.zeros((N,1))\n",
    "H_gamma = np.copy(gamma != 0)\n",
    "H_perfect = np.copy(H)\n",
    "H_perfect[gamma!=0] = 1\n",
    "#H = H_perfect\n",
    "\n",
    "M = 2\n",
    "#find the M most important regions\n",
    "top_gammas = (-gamma.squeeze()).argsort()[:M]\n",
    "\n",
    "H_oracle = np.copy(H)\n",
    "H_oracle[top_gammas] = 1\n",
    "\n",
    "H_random = np.copy(H)\n",
    "H_random[:M] = 1\n",
    "\n",
    "def analysis(H,do_plot=False):\n",
    "    coverage = np.dot(H.astype(np.int).T,contrib_regions.astype(np.int))/np.sum(contrib_regions)\n",
    "    peak_energy = (np.dot(H.T,np.abs(gamma)))/(np.linalg.norm(gamma)*np.linalg.norm(H))\n",
    "    \n",
    "    if do_plot:\n",
    "        print('Coverage',coverage, ' of ', np.sum(contrib_regions))\n",
    "        print('H onto gamma Energy:',peak_energy)\n",
    "        \n",
    "        plt.figure()\n",
    "        plt.plot(H,color='green')\n",
    "        plt.plot(contrib_regions,alpha=0.3,color='blue')\n",
    "\n",
    "    return coverage,peak_energy\n",
    "    #HYPOTH: ENERGY CORRESPONDS TO R^2\n",
    "    \n",
    "cov,pe = analysis(H_oracle)\n",
    "print(cov,pe)"
   ]
  },
  {
   "cell_type": "code",
   "execution_count": 4,
   "metadata": {},
   "outputs": [
    {
     "data": {
      "image/png": "[encoded data removed]",
      "text/plain": [
       "<Figure size 1440x864 with 1 Axes>"
      ]
     },
     "metadata": {
      "needs_background": "light"
     },
     "output_type": "display_data"
    }
   ],
   "source": [
    "results = []\n",
    "for ii in range(1000):\n",
    "    H_random = np.zeros((N,1))\n",
    "    rnd_idxs = random.sample(range(500),M)\n",
    "    H_random[rnd_idxs] = 1\n",
    "    results.append(analysis(H_random))\n",
    "\n",
    "plt.figure()\n",
    "plt.hist(np.array([b for a,b in results]).squeeze(),bins=20)\n",
    "plt.vlines(np.mean(np.array([b for a,b in results])),0,200,linewidth=10,linestyle='dotted',color='red')\n",
    "plt.show()"
   ]
  },
  {
   "cell_type": "markdown",
   "metadata": {},
   "source": [
    "# Now with data\n",
    "We're going to now use a \"simulated\" dataset of brain activity, behaviors, and measurements and apply the above analyses to see how we can derive an assessment through data instead of through model parameters.\n",
    "The results in this section are completely congruent with the previous section for those that are sufficiently aware of and satisfied with the way the theory above will be applied.\n",
    "\n",
    "## Assumed best-case readout model\n",
    "First we'll just assume the readout model can achieve best-case and focus on $H$ itself instead of its study-specific decomposition (See below)."
   ]
  },
  {
   "cell_type": "code",
   "execution_count": 5,
   "metadata": {},
   "outputs": [
    {
     "ename": "SyntaxError",
     "evalue": "invalid syntax (<ipython-input-5-e8129d9178a2>, line 3)",
     "output_type": "error",
     "traceback": [
      "\u001b[0;36m  File \u001b[0;32m\"<ipython-input-5-e8129d9178a2>\"\u001b[0;36m, line \u001b[0;32m3\u001b[0m\n\u001b[0;31m    H =\u001b[0m\n\u001b[0m        ^\u001b[0m\n\u001b[0;31mSyntaxError\u001b[0m\u001b[0;31m:\u001b[0m invalid syntax\n"
     ]
    }
   ],
   "source": [
    "G = nx.erdos_renyi_graph(N,0.3)\n",
    "L = nx.laplacian_matrix(G).todense()\n",
    "H = \n",
    "\n",
    "x = np.random.multivariate_normal(np.zeros((N,)),L,size=(10,)).T\n",
    "\n",
    "y = np.dot(H.T,x)\n",
    "beta = np.dot(gamma.T,x)\n",
    "print(x.shape)\n",
    "plt.figure()\n",
    "plt.scatter(y,beta)\n",
    "plt.xlabel('Predicted')\n",
    "plt.ylabel('Actual')"
   ]
  },
  {
   "cell_type": "markdown",
   "metadata": {},
   "source": [
    "## With explicit readout modeling\n",
    "In the above we assumed H is a subsampling of $\\Gamma$'s columns.\n",
    "However this is not realistic.\n",
    "First, we have probes in individual brain regions, so any given column of H must have at most one '1' and all the rest are '0' to represent no probe.\n",
    "Second, the readout itself is an analysis object that can have positives and negatives"
   ]
  },
  {
   "cell_type": "markdown",
   "metadata": {},
   "source": [
    "## Take-aways\n",
    "If you find a disease readout and want to figure out 'is this meaningful'? here are the steps you can take:\n",
    "\n",
    "1. Find out what brain regions have been implicated in the disease you're studying\n",
    "2. How many of those brain regions do you have probes in?\n",
    "3. Calculate your *coverage*\n",
    "4. Assume two things:\n",
    "    1. Your *coverage* percentage $c$ is the top $c$% of brain regions contributing to the behavior of interest.\n",
    "    2. Your *coverage* is a random $c$% of the brain regions involved in the disease process.\n",
    "5. Your upper and lower limits can be calculated as the "
   ]
  }
 ],
 "metadata": {
  "colab": {
   "collapsed_sections": [],
   "name": "Brain_Readout_Coverage",
   "provenance": [],
   "toc_visible": true
  },
  "kernelspec": {
   "display_name": "Python 3",
   "language": "python",
   "name": "python3"
  },
  "language_info": {
   "codemirror_mode": {
    "name": "ipython",
    "version": 3
   },
   "file_extension": ".py",
   "mimetype": "text/x-python",
   "name": "python",
   "nbconvert_exporter": "python",
   "pygments_lexer": "ipython3",
   "version": "3.8.3"
  }
 },
 "nbformat": 4,
 "nbformat_minor": 4
}
