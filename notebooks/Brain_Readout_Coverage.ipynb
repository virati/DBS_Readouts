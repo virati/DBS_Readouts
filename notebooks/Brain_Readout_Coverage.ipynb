{
 "cells": [
  {
   "cell_type": "code",
   "execution_count": 25,
   "metadata": {
    "colab": {},
    "colab_type": "code",
    "id": "iNTwY9lAo86E"
   },
   "outputs": [],
   "source": [
    "import networkx as nx\n",
    "import numpy as np\n",
    "\n",
    "import matplotlib\n",
    "import matplotlib.pyplot as plt\n",
    "\n",
    "matplotlib.rcParams['figure.figsize'] = (20,12)"
   ]
  },
  {
   "cell_type": "markdown",
   "metadata": {
    "colab_type": "text",
    "id": "H_-_v0uXo-Ku"
   },
   "source": [
    "# Assessing a Brain-based Disease Readout\n",
    "\n",
    "\n",
    "## Overview\n",
    "The brain is a set of structurally connected brain regions.\n",
    "Functions and behaviors arise from activity across multiply brain regions.\n",
    "The brain has billions of neurons but the most probes we've ever put into patients for recording are ~50.\n",
    "\n"
   ]
  },
  {
   "cell_type": "markdown",
   "metadata": {
    "colab_type": "text",
    "id": "wSKn86vRqC-1"
   },
   "source": [
    "\n",
    "## Model\n",
    "We'll have a set of 500 brain connected brain regions.\n",
    "A behavior we're interested in arises from the coordinated activity of 50 of those brain regions, with 10 of them contributing more than the other 40 (Figure )."
   ]
  },
  {
   "cell_type": "code",
   "execution_count": 49,
   "metadata": {
    "colab": {
     "base_uri": "https://localhost:8080/",
     "height": 300
    },
    "colab_type": "code",
    "id": "pFoLErIBqED-",
    "outputId": "9ecf9d0d-f42c-47cd-d3ef-78e1b87915cc"
   },
   "outputs": [
    {
     "ename": "ValueError",
     "evalue": "a must be 1-dimensional",
     "output_type": "error",
     "traceback": [
      "\u001b[0;31m---------------------------------------------------------------------------\u001b[0m",
      "\u001b[0;31mValueError\u001b[0m                                Traceback (most recent call last)",
      "\u001b[0;32m<ipython-input-49-91db14f2a4f0>\u001b[0m in \u001b[0;36m<module>\u001b[0;34m\u001b[0m\n\u001b[1;32m     20\u001b[0m \u001b[0mH_oracle\u001b[0m\u001b[0;34m[\u001b[0m\u001b[0mtop_gammas\u001b[0m\u001b[0;34m]\u001b[0m \u001b[0;34m=\u001b[0m \u001b[0;36m1\u001b[0m\u001b[0;34m\u001b[0m\u001b[0;34m\u001b[0m\u001b[0m\n\u001b[1;32m     21\u001b[0m \u001b[0;34m\u001b[0m\u001b[0m\n\u001b[0;32m---> 22\u001b[0;31m \u001b[0mH_random\u001b[0m\u001b[0;34m[\u001b[0m\u001b[0;34m:\u001b[0m\u001b[0mM\u001b[0m\u001b[0;34m]\u001b[0m \u001b[0;34m=\u001b[0m \u001b[0mnp\u001b[0m\u001b[0;34m.\u001b[0m\u001b[0mrandom\u001b[0m\u001b[0;34m.\u001b[0m\u001b[0mchoice\u001b[0m\u001b[0;34m(\u001b[0m\u001b[0mgamma\u001b[0m\u001b[0;34m,\u001b[0m\u001b[0msize\u001b[0m\u001b[0;34m=\u001b[0m\u001b[0;34m(\u001b[0m\u001b[0mM\u001b[0m\u001b[0;34m,\u001b[0m\u001b[0;36m1\u001b[0m\u001b[0;34m)\u001b[0m\u001b[0;34m)\u001b[0m\u001b[0;34m\u001b[0m\u001b[0;34m\u001b[0m\u001b[0m\n\u001b[0m\u001b[1;32m     23\u001b[0m \u001b[0;34m\u001b[0m\u001b[0m\n\u001b[1;32m     24\u001b[0m \u001b[0;32mdef\u001b[0m \u001b[0manalysis\u001b[0m\u001b[0;34m(\u001b[0m\u001b[0mH\u001b[0m\u001b[0;34m)\u001b[0m\u001b[0;34m:\u001b[0m\u001b[0;34m\u001b[0m\u001b[0;34m\u001b[0m\u001b[0m\n",
      "\u001b[0;32mmtrand.pyx\u001b[0m in \u001b[0;36mnumpy.random.mtrand.RandomState.choice\u001b[0;34m()\u001b[0m\n",
      "\u001b[0;31mValueError\u001b[0m: a must be 1-dimensional"
     ]
    }
   ],
   "source": [
    "\n",
    "def gate(x):\n",
    "    return x/np.abs(x)\n",
    "  \n",
    "\n",
    "N = 500\n",
    "gamma = np.random.normal(0,1.0,size=x.shape) * np.random.choice([0,1,2],p=[450/500,40/500,10/500],size=x.shape)\n",
    "contrib_regions = gamma != 0\n",
    "\n",
    "H = np.zeros_like(x)\n",
    "H_perfect = np.copy(H)\n",
    "H_oracle = np.copy(H)\n",
    "H_random = np.copy(H)\n",
    "H_gamma = np.copy(gamma != 0)\n",
    "H_perfect[gamma!=0] = 1\n",
    "#H = H_perfect\n",
    "\n",
    "M = 10\n",
    "#find the M most important regions\n",
    "top_gammas = (-gamma.squeeze()).argsort()[:M]\n",
    "H_oracle[top_gammas] = 1\n",
    "\n",
    "H_random[:M] = 1\n",
    "\n",
    "def analysis(H):\n",
    "    coverage = np.dot(H.astype(np.int).T,contrib_regions.astype(np.int))/np.sum(contrib_regions)\n",
    "    print('Coverage',coverage, ' of ', np.sum(contrib_regions))\n",
    "\n",
    "    plt.figure()\n",
    "    plt.plot(H,color='green')\n",
    "    plt.plot(contrib_regions,alpha=0.3,color='blue')\n",
    "\n",
    "    peak_energy = (np.dot(H.T,np.abs(gamma)))/(np.linalg.norm(gamma)*np.linalg.norm(H))\n",
    "    #HYPOTH: ENERGY CORRESPONDS TO R^2\n",
    "\n",
    "    print('H onto gamma Energy:',peak_energy)\n",
    "\n",
    "analysis(H_random)\n"
   ]
  },
  {
   "cell_type": "markdown",
   "metadata": {},
   "source": [
    "# Now with data\n"
   ]
  },
  {
   "cell_type": "code",
   "execution_count": 51,
   "metadata": {},
   "outputs": [
    {
     "name": "stdout",
     "output_type": "stream",
     "text": [
      "(500, 10)\n"
     ]
    },
    {
     "data": {
      "text/plain": [
       "Text(0, 0.5, 'Actual')"
      ]
     },
     "execution_count": 51,
     "metadata": {},
     "output_type": "execute_result"
    },
    {
     "data": {
      "image/png": "[encoded data removed]",
      "text/plain": [
       "<Figure size 1440x864 with 1 Axes>"
      ]
     },
     "metadata": {
      "needs_background": "light"
     },
     "output_type": "display_data"
    }
   ],
   "source": [
    "G = nx.erdos_renyi_graph(N,0.3)\n",
    "L = nx.laplacian_matrix(G).todense()\n",
    "H = H_oracle\n",
    "\n",
    "x = np.random.multivariate_normal(np.zeros((N,)),L,size=(10,)).T\n",
    "\n",
    "y = np.dot(H.T,x)\n",
    "beta = np.dot(gamma.T,x)\n",
    "print(x.shape)\n",
    "plt.figure()\n",
    "plt.scatter(y,beta)\n",
    "plt.xlabel('Predicted')\n",
    "plt.ylabel('Actual')"
   ]
  }
 ],
 "metadata": {
  "colab": {
   "collapsed_sections": [],
   "name": "Brain_Readout_Coverage",
   "provenance": [],
   "toc_visible": true
  },
  "kernelspec": {
   "display_name": "Python 3",
   "language": "python",
   "name": "python3"
  },
  "language_info": {
   "codemirror_mode": {
    "name": "ipython",
    "version": 3
   },
   "file_extension": ".py",
   "mimetype": "text/x-python",
   "name": "python",
   "nbconvert_exporter": "python",
   "pygments_lexer": "ipython3",
   "version": "3.7.7"
  }
 },
 "nbformat": 4,
 "nbformat_minor": 4
}
