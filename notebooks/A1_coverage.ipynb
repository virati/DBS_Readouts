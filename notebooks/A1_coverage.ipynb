{
 "cells": [
  {
   "cell_type": "markdown",
   "metadata": {},
   "source": [
    "# Defining Sensor Coverage\n",
    "The brain is a network of regions.\n",
    "Different subsets of regions map onto different functionally distinct outputs, or *behaviors*.\n",
    "\n",
    "When we measure brain regions we measure an independent (potentially overlapping, potentially identical, potentially different, etc.) set of brain regions compared to those associated with our functional input(s) of interest.\n",
    "\n",
    "Let's formally define the *sensor coverage* metric."
   ]
  },
  {
   "cell_type": "code",
   "execution_count": 22,
   "metadata": {},
   "outputs": [
    {
     "data": {
      "text/plain": [
       "DeviceArray([[0.18257418]], dtype=float32)"
      ]
     },
     "execution_count": 22,
     "metadata": {},
     "output_type": "execute_result"
    }
   ],
   "source": [
    "from dbread.ro_sys import RO_SYS\n",
    "import jax.numpy as np\n",
    "import numpy as nnp\n",
    "\n",
    "B = 1\n",
    "M = 1\n",
    "regions = 10\n",
    "\n",
    "basic_system = RO_SYS(B = B, M = M, regions = regions)\n",
    "basic_system.H = nnp.zeros((basic_system.regions, basic_system.B))\n",
    "basic_system.H[0:5,:] = 1\n",
    "basic_system.gamma = nnp.zeros((basic_system.regions, basic_system.M))\n",
    "basic_system.gamma[4:,:] = 1\n",
    "basic_system.coverage()"
   ]
  },
  {
   "cell_type": "code",
   "execution_count": 23,
   "metadata": {},
   "outputs": [
    {
     "ename": "ValueError",
     "evalue": "mean must be 1 dimensional",
     "output_type": "error",
     "traceback": [
      "\u001b[0;31m---------------------------------------------------------------------------\u001b[0m",
      "\u001b[0;31mValueError\u001b[0m                                Traceback (most recent call last)",
      "\u001b[1;32m/workspaces/readout_lim/notebooks/A1_coverage.ipynb Cell 3\u001b[0m in \u001b[0;36m<cell line: 2>\u001b[0;34m()\u001b[0m\n\u001b[1;32m      <a href='vscode-notebook-cell://dev-container%2B2f686f6d652f7669726174692f44726f70626f782f70726f6a656374732f52657365617263682f436f6e74726f6c2f726561646f75745f6c696d/workspaces/readout_lim/notebooks/A1_coverage.ipynb#W2sdnNjb2RlLXJlbW90ZQ%3D%3D?line=0'>1</a>\u001b[0m \u001b[39m# we need a signal for the underlying regions\u001b[39;00m\n\u001b[0;32m----> <a href='vscode-notebook-cell://dev-container%2B2f686f6d652f7669726174692f44726f70626f782f70726f6a656374732f52657365617263682f436f6e74726f6c2f726561646f75745f6c696d/workspaces/readout_lim/notebooks/A1_coverage.ipynb#W2sdnNjb2RlLXJlbW90ZQ%3D%3D?line=1'>2</a>\u001b[0m X_regions \u001b[39m=\u001b[39m nnp\u001b[39m.\u001b[39;49mrandom\u001b[39m.\u001b[39;49mmultivariate_normal(\u001b[39m0\u001b[39;49m,nnp\u001b[39m.\u001b[39;49meye(regions))\n",
      "File \u001b[0;32mmtrand.pyx:4125\u001b[0m, in \u001b[0;36mnumpy.random.mtrand.RandomState.multivariate_normal\u001b[0;34m()\u001b[0m\n",
      "\u001b[0;31mValueError\u001b[0m: mean must be 1 dimensional"
     ]
    }
   ],
   "source": [
    "# we need a signal for the underlying regions\n",
    "X_regions = nnp.random.multivariate_normal(0*np.zeros(regions),nnp.eye(regions))"
   ]
  }
 ],
 "metadata": {
  "kernelspec": {
   "display_name": "Python 3.10.4 64-bit",
   "language": "python",
   "name": "python3"
  },
  "language_info": {
   "codemirror_mode": {
    "name": "ipython",
    "version": 3
   },
   "file_extension": ".py",
   "mimetype": "text/x-python",
   "name": "python",
   "nbconvert_exporter": "python",
   "pygments_lexer": "ipython3",
   "version": "3.10.4"
  },
  "orig_nbformat": 4,
  "vscode": {
   "interpreter": {
    "hash": "949777d72b0d2535278d3dc13498b2535136f6dfe0678499012e853ee9abcab1"
   }
  }
 },
 "nbformat": 4,
 "nbformat_minor": 2
}
